{
 "cells": [
  {
   "cell_type": "code",
   "execution_count": 1,
   "id": "1aa28469-d6ee-4b2d-8268-e294041f3b43",
   "metadata": {},
   "outputs": [
    {
     "name": "stderr",
     "output_type": "stream",
     "text": [
      "2024-04-18 12:18:41.636279: E external/local_xla/xla/stream_executor/cuda/cuda_dnn.cc:9261] Unable to register cuDNN factory: Attempting to register factory for plugin cuDNN when one has already been registered\n",
      "2024-04-18 12:18:41.636301: E external/local_xla/xla/stream_executor/cuda/cuda_fft.cc:607] Unable to register cuFFT factory: Attempting to register factory for plugin cuFFT when one has already been registered\n",
      "2024-04-18 12:18:41.636941: E external/local_xla/xla/stream_executor/cuda/cuda_blas.cc:1515] Unable to register cuBLAS factory: Attempting to register factory for plugin cuBLAS when one has already been registered\n",
      "2024-04-18 12:18:41.641335: I tensorflow/core/platform/cpu_feature_guard.cc:182] This TensorFlow binary is optimized to use available CPU instructions in performance-critical operations.\n",
      "To enable the following instructions: AVX2 FMA, in other operations, rebuild TensorFlow with the appropriate compiler flags.\n",
      "2024-04-18 12:18:42.302481: W tensorflow/compiler/tf2tensorrt/utils/py_utils.cc:38] TF-TRT Warning: Could not find TensorRT\n",
      "2024-04-18 12:18:43.749050: I external/local_xla/xla/stream_executor/cuda/cuda_executor.cc:901] successful NUMA node read from SysFS had negative value (-1), but there must be at least one NUMA node, so returning NUMA node zero. See more at https://github.com/torvalds/linux/blob/v6.0/Documentation/ABI/testing/sysfs-bus-pci#L344-L355\n",
      "2024-04-18 12:18:43.772049: I external/local_xla/xla/stream_executor/cuda/cuda_executor.cc:901] successful NUMA node read from SysFS had negative value (-1), but there must be at least one NUMA node, so returning NUMA node zero. See more at https://github.com/torvalds/linux/blob/v6.0/Documentation/ABI/testing/sysfs-bus-pci#L344-L355\n",
      "2024-04-18 12:18:43.772256: I external/local_xla/xla/stream_executor/cuda/cuda_executor.cc:901] successful NUMA node read from SysFS had negative value (-1), but there must be at least one NUMA node, so returning NUMA node zero. See more at https://github.com/torvalds/linux/blob/v6.0/Documentation/ABI/testing/sysfs-bus-pci#L344-L355\n",
      "2024-04-18 12:18:43.774235: I external/local_xla/xla/stream_executor/cuda/cuda_executor.cc:901] successful NUMA node read from SysFS had negative value (-1), but there must be at least one NUMA node, so returning NUMA node zero. See more at https://github.com/torvalds/linux/blob/v6.0/Documentation/ABI/testing/sysfs-bus-pci#L344-L355\n",
      "2024-04-18 12:18:43.774503: I external/local_xla/xla/stream_executor/cuda/cuda_executor.cc:901] successful NUMA node read from SysFS had negative value (-1), but there must be at least one NUMA node, so returning NUMA node zero. See more at https://github.com/torvalds/linux/blob/v6.0/Documentation/ABI/testing/sysfs-bus-pci#L344-L355\n",
      "2024-04-18 12:18:43.774736: I external/local_xla/xla/stream_executor/cuda/cuda_executor.cc:901] successful NUMA node read from SysFS had negative value (-1), but there must be at least one NUMA node, so returning NUMA node zero. See more at https://github.com/torvalds/linux/blob/v6.0/Documentation/ABI/testing/sysfs-bus-pci#L344-L355\n",
      "2024-04-18 12:18:43.851570: I external/local_xla/xla/stream_executor/cuda/cuda_executor.cc:901] successful NUMA node read from SysFS had negative value (-1), but there must be at least one NUMA node, so returning NUMA node zero. See more at https://github.com/torvalds/linux/blob/v6.0/Documentation/ABI/testing/sysfs-bus-pci#L344-L355\n",
      "2024-04-18 12:18:43.851742: I external/local_xla/xla/stream_executor/cuda/cuda_executor.cc:901] successful NUMA node read from SysFS had negative value (-1), but there must be at least one NUMA node, so returning NUMA node zero. See more at https://github.com/torvalds/linux/blob/v6.0/Documentation/ABI/testing/sysfs-bus-pci#L344-L355\n",
      "2024-04-18 12:18:43.851895: I external/local_xla/xla/stream_executor/cuda/cuda_executor.cc:901] successful NUMA node read from SysFS had negative value (-1), but there must be at least one NUMA node, so returning NUMA node zero. See more at https://github.com/torvalds/linux/blob/v6.0/Documentation/ABI/testing/sysfs-bus-pci#L344-L355\n",
      "2024-04-18 12:18:43.852005: I tensorflow/core/common_runtime/gpu/gpu_device.cc:1929] Created device /job:localhost/replica:0/task:0/device:GPU:0 with 6805 MB memory:  -> device: 0, name: NVIDIA GeForce RTX 2080 SUPER, pci bus id: 0000:09:00.0, compute capability: 7.5\n"
     ]
    },
    {
     "data": {
      "application/vnd.jupyter.widget-view+json": {
       "model_id": "386d16e4fb024b95908eafab33f468d6",
       "version_major": 2,
       "version_minor": 0
      },
      "text/plain": []
     },
     "metadata": {},
     "output_type": "display_data"
    }
   ],
   "source": [
    "import asmsa\n",
    "import mdtraj as md\n",
    "import nglview as nv\n",
    "import numpy as np"
   ]
  },
  {
   "cell_type": "code",
   "execution_count": 2,
   "id": "19e6b9ad-0462-4aa3-b847-c4adeb0f7fbe",
   "metadata": {},
   "outputs": [],
   "source": [
    "conf = \"trpcage_correct.pdb\"\n",
    "topol = \"topol_correct.top\"\n",
    "index = 'index_correct.ndx'\n",
    "gro = 'trpcage_correct.gro'"
   ]
  },
  {
   "cell_type": "code",
   "execution_count": 3,
   "id": "a6a06f60-3791-4f12-8f07-f5bcd8eee09a",
   "metadata": {},
   "outputs": [],
   "source": [
    "# outputs of prepare.ipynb\n",
    "\n",
    "#train_tr = md.load('x_train.xtc',top=conf)\n",
    "#test_tr = md.load('x_test.xtc',top=conf)\n",
    "\n",
    "train_tr = md.load('train.xtc',top=conf)\n",
    "test_tr = md.load('test.xtc',top=conf)"
   ]
  },
  {
   "cell_type": "code",
   "execution_count": 4,
   "id": "03926d18-1a73-41c3-9c27-cc21ac2a506a",
   "metadata": {},
   "outputs": [],
   "source": [
    "train_g = np.moveaxis(train_tr.xyz,0,-1)\n",
    "test_g = np.moveaxis(test_tr.xyz,0,-1)"
   ]
  },
  {
   "cell_type": "code",
   "execution_count": 5,
   "id": "3c4d1412-192e-456f-a7ee-d266161cd4f3",
   "metadata": {},
   "outputs": [
    {
     "data": {
      "text/plain": [
       "(144, 3, 36540)"
      ]
     },
     "execution_count": 5,
     "metadata": {},
     "output_type": "execute_result"
    }
   ],
   "source": [
    "train_g.shape"
   ]
  },
  {
   "cell_type": "code",
   "execution_count": 6,
   "id": "a989797d-4fa5-4b26-9727-015a6709460e",
   "metadata": {},
   "outputs": [],
   "source": [
    "sparse_dists = asmsa.NBDistancesSparse(train_g.shape[0], density=2)\n",
    "mol = asmsa.Molecule(pdb=conf,top=topol,ndx=index,fms=[sparse_dists])"
   ]
  },
  {
   "cell_type": "code",
   "execution_count": 7,
   "id": "35704c30-55b3-4677-beb7-4358ecaf5d8e",
   "metadata": {},
   "outputs": [
    {
     "data": {
      "text/plain": [
       "(1419, 36540)"
      ]
     },
     "execution_count": 7,
     "metadata": {},
     "output_type": "execute_result"
    }
   ],
   "source": [
    "train_int = mol.intcoord(train_g)\n",
    "train_int.shape"
   ]
  },
  {
   "cell_type": "code",
   "execution_count": 8,
   "id": "6cb6b80b-e7da-448f-8982-2d36eb93d7cd",
   "metadata": {},
   "outputs": [
    {
     "data": {
      "text/plain": [
       "(1419, 7830)"
      ]
     },
     "execution_count": 8,
     "metadata": {},
     "output_type": "execute_result"
    }
   ],
   "source": [
    "test_int = mol.intcoord(test_g)\n",
    "test_int.shape"
   ]
  },
  {
   "cell_type": "code",
   "execution_count": 9,
   "id": "dc4cc5bb-b1eb-4adc-830b-503f0b49c596",
   "metadata": {},
   "outputs": [
    {
     "data": {
      "text/plain": [
       "(1419,)"
      ]
     },
     "execution_count": 9,
     "metadata": {},
     "output_type": "execute_result"
    }
   ],
   "source": [
    "# faking ... true output of decoder predicting something should come here\n",
    "\n",
    "out_idx = 100\n",
    "\n",
    "dec_out = test_int[:,out_idx]\n",
    "dec_out.shape"
   ]
  },
  {
   "cell_type": "code",
   "execution_count": 10,
   "id": "085c400e-1a99-4059-8cd8-718b470f459d",
   "metadata": {},
   "outputs": [],
   "source": [
    "diff = train_int.T - dec_out\n",
    "msd = np.sum(diff * diff,axis=1)"
   ]
  },
  {
   "cell_type": "code",
   "execution_count": 11,
   "id": "5d47de5e-7ad0-409c-bdca-48d236d96b6f",
   "metadata": {},
   "outputs": [],
   "source": [
    "minidx = np.argmin(msd)"
   ]
  },
  {
   "cell_type": "code",
   "execution_count": 12,
   "id": "4ebfe027-47a4-4053-a71b-9be366e61bcd",
   "metadata": {},
   "outputs": [],
   "source": [
    "train_mean = np.loadtxt('datasets/intcoords/mean.txt',dtype=np.float32)\n",
    "train_scale = np.loadtxt('datasets/intcoords/scale.txt',dtype=np.float32)"
   ]
  },
  {
   "cell_type": "code",
   "execution_count": 13,
   "id": "a3cfa128-ee10-46e1-b02b-58bc903dc953",
   "metadata": {},
   "outputs": [],
   "source": [
    "dec_out_scaled = dec_out * train_scale + train_mean"
   ]
  },
  {
   "cell_type": "code",
   "execution_count": 14,
   "id": "e91c8399-4e5b-49bc-be93-a57ab654dacb",
   "metadata": {},
   "outputs": [],
   "source": [
    "# see train.ipynb\n",
    "grotr = md.load(gro)\n",
    "nhs = grotr.topology.select('element != H')\n",
    "\n",
    "with open(index) as f:\n",
    "    f.readline()\n",
    "    ndx = np.fromstring(\" \".join(f),dtype=np.int32,sep=' ')-1\n",
    "\n",
    "pdb2gmx = nhs[np.argsort(ndx)]+1\n"
   ]
  },
  {
   "cell_type": "code",
   "execution_count": 15,
   "id": "09e7de53-8b63-459a-b59e-60097dde07d6",
   "metadata": {},
   "outputs": [
    {
     "data": {
      "text/plain": [
       "array([  1,   5,  13,  14,   7,  10,  11,  12,  15,  17,  23,  24,  19,\n",
       "        25,  27,  44,  45,  29,  32,  33,  42,  35,  40,  37,  38,  46,\n",
       "        48,  54,  55,  50,  56,  58,  71,  72,  60,  63,  66,  67,  68,\n",
       "        73,  75,  95,  96,  77,  80,  81,  94,  83,  85,  92,  86,  90,\n",
       "        88,  97,  99, 114, 115, 101, 104, 106, 110, 116, 118, 124, 125,\n",
       "       120, 126, 128, 136, 137, 130, 133, 134, 135, 138, 140, 143, 144,\n",
       "       145, 147, 150, 151, 152, 162, 164, 165, 159, 156, 153, 166, 168,\n",
       "       175, 176, 170, 173, 177, 179, 186, 187, 181, 184, 188, 190, 193,\n",
       "       194, 195, 197, 217, 218, 199, 202, 205, 208, 210, 211, 214, 219,\n",
       "       229, 231, 232, 226, 223, 220, 233, 243, 245, 246, 240, 237, 234,\n",
       "       247, 257, 259, 260, 254, 251, 248, 261, 263, 270, 272, 265, 268,\n",
       "       271])"
      ]
     },
     "execution_count": 15,
     "metadata": {},
     "output_type": "execute_result"
    }
   ],
   "source": [
    "pdb2gmx"
   ]
  },
  {
   "cell_type": "code",
   "execution_count": 16,
   "id": "b806c27e-526a-4524-a640-be093145a2ba",
   "metadata": {},
   "outputs": [],
   "source": [
    "import gromacs as gmx"
   ]
  },
  {
   "cell_type": "code",
   "execution_count": 17,
   "id": "db86d864-e1c9-4735-8d4f-bd3431ff0b97",
   "metadata": {},
   "outputs": [],
   "source": [
    "mintr = train_tr[minidx]\n",
    "mintr.save('min.pdb')"
   ]
  },
  {
   "cell_type": "code",
   "execution_count": 18,
   "id": "6a9ae670-324d-4317-b6ee-9266d5acf80e",
   "metadata": {},
   "outputs": [],
   "source": [
    "ompthreads=2\n",
    "mpiranks=1"
   ]
  },
  {
   "cell_type": "code",
   "execution_count": null,
   "id": "4ce3c28d-94b1-4222-bc8f-c8b624fb53e1",
   "metadata": {},
   "outputs": [],
   "source": [
    "# Kubernetes deployment\n",
    "mdrunner=gmx.MDrunnerK8s()\n",
    "\n",
    "def mdrun(**kwargs):\n",
    "    mdrunner.run(pre={'cores':ompthreads*mpiranks,'gpus':1}, mdrunargs={**kwargs,'ntomp':ompthreads,'pin':'on'},ncores=mpiranks)"
   ]
  },
  {
   "cell_type": "code",
   "execution_count": 19,
   "id": "46a8cb68-a2ee-4256-9162-3feaa806ee21",
   "metadata": {},
   "outputs": [],
   "source": [
    "# alternative local deployment\n",
    "mdrunner=gmx.run.MDrunner()\n",
    "\n",
    "# XXX: no MPI support so far\n",
    "def mdrun(**kwargs):\n",
    "    mdrunner.run(mdrunargs={**kwargs,'ntomp':ompthreads,'pin':'on'})"
   ]
  },
  {
   "cell_type": "code",
   "execution_count": 25,
   "id": "e8bb7494-85cf-4388-92b8-f013b638a3b5",
   "metadata": {},
   "outputs": [
    {
     "name": "stdout",
     "output_type": "stream",
     "text": [
      "\n",
      "==========\n",
      "== CUDA ==\n",
      "==========\n",
      "\n",
      "CUDA Version 12.3.1\n",
      "\n",
      "Container image Copyright (c) 2016-2023, NVIDIA CORPORATION & AFFILIATES. All rights reserved.\n",
      "\n",
      "This container image and its contents are governed by the NVIDIA Deep Learning Container License.\n",
      "By pulling and using the container, you accept the terms and conditions of this license:\n",
      "https://developer.nvidia.com/ngc/nvidia-deep-learning-container-license\n",
      "\n",
      "A copy of this license is made available in this container at /NGC-DL-CONTAINER-LICENSE for your convenience.\n",
      "\n"
     ]
    },
    {
     "name": "stderr",
     "output_type": "stream",
     "text": [
      "            :-) GROMACS - gmx pdb2gmx, 2023.2-plumed_2.10.0_dev (-:\n",
      "\n",
      "Executable:   /gromacs/AVX2_256_ts/bin/gmx\n",
      "Data prefix:  /gromacs/AVX2_256_ts\n",
      "Working dir:  /work\n",
      "Command line:\n",
      "  gmx pdb2gmx -f min.pdb -o min.gro -p min.top -water tip3p -ff amber94\n",
      "\n",
      "Opening force field file /gromacs/AVX2_256_ts/share/gromacs/top/amber94.ff/aminoacids.r2b\n",
      "Opening force field file /gromacs/AVX2_256_ts/share/gromacs/top/amber94.ff/dna.r2b\n",
      "Opening force field file /gromacs/AVX2_256_ts/share/gromacs/top/amber94.ff/rna.r2b\n",
      "All occupancies are one\n",
      "Opening force field file /gromacs/AVX2_256_ts/share/gromacs/top/amber94.ff/atomtypes.atp\n",
      "Opening force field file /gromacs/AVX2_256_ts/share/gromacs/top/amber94.ff/aminoacids.rtp\n",
      "Opening force field file /gromacs/AVX2_256_ts/share/gromacs/top/amber94.ff/dna.rtp\n",
      "Opening force field file /gromacs/AVX2_256_ts/share/gromacs/top/amber94.ff/rna.rtp\n",
      "Opening force field file /gromacs/AVX2_256_ts/share/gromacs/top/amber94.ff/aminoacids.hdb\n",
      "Opening force field file /gromacs/AVX2_256_ts/share/gromacs/top/amber94.ff/dna.hdb\n",
      "Opening force field file /gromacs/AVX2_256_ts/share/gromacs/top/amber94.ff/rna.hdb\n",
      "Opening force field file /gromacs/AVX2_256_ts/share/gromacs/top/amber94.ff/aminoacids.n.tdb\n",
      "Opening force field file /gromacs/AVX2_256_ts/share/gromacs/top/amber94.ff/aminoacids.c.tdb\n",
      "\n",
      "Back Off! I just backed up min.top to ./#min.top.2#\n",
      "8 out of 8 lines of specbond.dat converted successfully\n",
      "Opening force field file /gromacs/AVX2_256_ts/share/gromacs/top/amber94.ff/aminoacids.arn\n",
      "Opening force field file /gromacs/AVX2_256_ts/share/gromacs/top/amber94.ff/dna.arn\n",
      "Opening force field file /gromacs/AVX2_256_ts/share/gromacs/top/amber94.ff/rna.arn\n",
      "Before cleaning: 724 pairs\n",
      "Before cleaning: 749 dihedrals\n",
      "\n",
      "Back Off! I just backed up posre.itp to ./#posre.itp.2#\n",
      "\n",
      "Back Off! I just backed up min.gro to ./#min.gro.2#\n",
      "\n",
      "GROMACS reminds you: \"It's Calling Me to Break my Bonds, Again...\" (Van der Graaf)\n",
      "\n"
     ]
    },
    {
     "name": "stdout",
     "output_type": "stream",
     "text": [
      "Using the Amber94 force field in directory amber94.ff\n",
      "\n",
      "going to rename amber94.ff/aminoacids.r2b\n",
      "\n",
      "going to rename amber94.ff/dna.r2b\n",
      "\n",
      "going to rename amber94.ff/rna.r2b\n",
      "Reading min.pdb...\n",
      "Read '', 144 atoms\n",
      "\n",
      "Analyzing pdb file\n",
      "Splitting chemical chains based on TER records or chain id changing.\n",
      "\n",
      "There are 1 chains and 0 blocks of water and 20 residues with 144 atoms\n",
      "\n",
      "  chain  #res #atoms\n",
      "\n",
      "  1 'A'    20    144  \n",
      "\n",
      "All occupancies are one\n",
      "\n",
      "Reading residue database... (Amber94)\n",
      "\n",
      "Processing chain 1 'A' (144 atoms, 20 residues)\n",
      "\n",
      "Identified residue ASP1 as a starting terminus.\n",
      "\n",
      "Identified residue SER20 as a ending terminus.\n",
      "\n",
      "Checking for duplicate atoms....\n",
      "\n",
      "Generating any missing hydrogen atoms and/or adding termini.\n",
      "\n",
      "Now there are 20 residues with 272 atoms\n",
      "\n",
      "Making bonds...\n",
      "\n",
      "Number of bonds was 279, now 278\n",
      "\n",
      "Generating angles, dihedrals and pairs...\n",
      "\n",
      "Making cmap torsions...\n",
      "\n",
      "There are  749 dihedrals,   60 impropers,  502 angles\n",
      "           718 pairs,      278 bonds and     0 virtual sites\n",
      "\n",
      "Total mass 2028.164 a.m.u.\n",
      "\n",
      "Total charge -1.000 e\n",
      "\n",
      "Writing topology\n",
      "\n",
      "Writing coordinate file...\n",
      "\n",
      "\t\t--------- PLEASE NOTE ------------\n",
      "\n",
      "You have successfully generated a topology from: min.pdb.\n",
      "\n",
      "The Amber94 force field and the tip3p water model are used.\n",
      "\n",
      "\t\t--------- ETON ESAELP ------------\n"
     ]
    },
    {
     "data": {
      "text/plain": [
       "(0, None, None)"
      ]
     },
     "execution_count": 25,
     "metadata": {},
     "output_type": "execute_result"
    }
   ],
   "source": [
    "gmx.pdb2gmx(f='min.pdb',o='min.gro',p='min.top',water='tip3p',ff='amber94')"
   ]
  },
  {
   "cell_type": "code",
   "execution_count": 26,
   "id": "69a27e1d-383d-4916-b321-17d9c04b0add",
   "metadata": {},
   "outputs": [
    {
     "name": "stdout",
     "output_type": "stream",
     "text": [
      "\n",
      "==========\n",
      "== CUDA ==\n",
      "==========\n",
      "\n",
      "CUDA Version 12.3.1\n",
      "\n",
      "Container image Copyright (c) 2016-2023, NVIDIA CORPORATION & AFFILIATES. All rights reserved.\n",
      "\n",
      "This container image and its contents are governed by the NVIDIA Deep Learning Container License.\n",
      "By pulling and using the container, you accept the terms and conditions of this license:\n",
      "https://developer.nvidia.com/ngc/nvidia-deep-learning-container-license\n",
      "\n",
      "A copy of this license is made available in this container at /NGC-DL-CONTAINER-LICENSE for your convenience.\n",
      "\n"
     ]
    },
    {
     "name": "stderr",
     "output_type": "stream",
     "text": [
      "            :-) GROMACS - gmx editconf, 2023.2-plumed_2.10.0_dev (-:\n",
      "\n",
      "Executable:   /gromacs/AVX2_256_ts/bin/gmx\n",
      "Data prefix:  /gromacs/AVX2_256_ts\n",
      "Working dir:  /work\n",
      "Command line:\n",
      "  gmx editconf -f min.gro -o min-box.gro -c -d 2.0 -bt dodecahedron\n",
      "\n",
      "\n",
      "Back Off! I just backed up min-box.gro to ./#min-box.gro.2#\n",
      "\n",
      "GROMACS reminds you: \"The soul? There's nothing but chemistry here\" (Breaking Bad)\n",
      "\n"
     ]
    },
    {
     "name": "stdout",
     "output_type": "stream",
     "text": [
      "Note that major changes are planned in future for editconf, to improve usability and utility.\n",
      "Read 272 atoms\n",
      "Volume: 51.9452 nm^3, corresponds to roughly 23300 electrons\n",
      "No velocities found\n",
      "    system size :  2.576  1.839  2.486 (nm)\n",
      "    diameter    :  2.818               (nm)\n",
      "    center      :  2.951  3.003  3.062 (nm)\n",
      "    box vectors :  3.731  3.731  3.731 (nm)\n",
      "    box angles  :  90.00  90.00  90.00 (degrees)\n",
      "    box volume  :  51.95               (nm^3)\n",
      "    shift       :  2.162  2.110 -0.652 (nm)\n",
      "new center      :  5.114  5.114  2.411 (nm)\n",
      "new box vectors :  6.818  6.818  6.818 (nm)\n",
      "new box angles  :  60.00  60.00  90.00 (degrees)\n",
      "new box volume  : 224.13               (nm^3)\n"
     ]
    },
    {
     "data": {
      "text/plain": [
       "(0, None, None)"
      ]
     },
     "execution_count": 26,
     "metadata": {},
     "output_type": "execute_result"
    }
   ],
   "source": [
    "mdbox=2.0\n",
    "gmx.editconf(f='min.gro',o=\"min-box.gro\",c=True,d=str(mdbox),bt=\"dodecahedron\")"
   ]
  },
  {
   "cell_type": "code",
   "execution_count": 27,
   "id": "79a5ada6-590a-42d2-b80d-cba1eae09e0e",
   "metadata": {},
   "outputs": [],
   "source": [
    "!cp min.top restrained.top\n",
    "\n",
    "off = mol.dihed4.shape[0]*2+mol.dihed9.shape[0]*2+mol.angles.shape[0]+mol.bonds.shape[0]\n",
    "\n",
    "dec_dist = dec_out_scaled[off:]\n",
    "\n",
    "\n",
    "with open('restrained.top','a') as t:\n",
    "    t.write('''\n",
    "[ distance_restraints ]\n",
    "''')\n",
    "    for i,d in enumerate(sparse_dists.bonds):\n",
    "        t.write(f'{pdb2gmx[d[0]]} {pdb2gmx[d[1]]} 1 {i} 2 {dec_dist[i]*.99} {dec_dist[i]*1.01} 42.0 10.0\\n')"
   ]
  },
  {
   "cell_type": "code",
   "execution_count": 28,
   "id": "63dc1616-971a-4096-aea4-6d574bd38624",
   "metadata": {},
   "outputs": [],
   "source": [
    "with open('min.mdp','w') as m:\n",
    "    m.write('''\n",
    "integrator  = steep         ; Algorithm (steep = steepest descent minimization)\n",
    "emtol       = 1000.0        ; Stop minimization when the maximum force < 1000.0 kJ/mol/nm\n",
    "emstep      = 0.01          ; Minimization step size\n",
    "nsteps      = 50000         ; Maximum number of (minimization) steps to perform\n",
    "\n",
    "nstxout                 = 0         \n",
    "nstvout                 = 0         \n",
    "nstfout                 = 0         \n",
    "nstlog                  = 5\n",
    "nstxout-compressed      = 0\n",
    "\n",
    "; Parameters describing how to find the neighbors of each atom and how to calculate the interactions\n",
    "nstlist         = 1         ; Frequency to update the neighbor list and long range forces\n",
    "cutoff-scheme   = Verlet    ; Buffered neighbor searching\n",
    "ns_type         = grid      ; Method to determine neighbor list (simple, grid)\n",
    "coulombtype     = Cut-off   ; Treatment of long range electrostatic interactions\n",
    "rcoulomb        = 1.0       ; Short-range electrostatic cut-off\n",
    "rvdw            = 1.0       ; Short-range Van der Waals cut-off\n",
    "pbc             = xyz       ; Periodic Boundary Conditions in all 3 dimensions\n",
    "\n",
    "disre           = Simple\n",
    "''')"
   ]
  },
  {
   "cell_type": "code",
   "execution_count": 29,
   "id": "a5f5fb2a-3741-4790-a4a9-300c25301d15",
   "metadata": {},
   "outputs": [
    {
     "name": "stdout",
     "output_type": "stream",
     "text": [
      "\n",
      "==========\n",
      "== CUDA ==\n",
      "==========\n",
      "\n",
      "CUDA Version 12.3.1\n",
      "\n",
      "Container image Copyright (c) 2016-2023, NVIDIA CORPORATION & AFFILIATES. All rights reserved.\n",
      "\n",
      "This container image and its contents are governed by the NVIDIA Deep Learning Container License.\n",
      "By pulling and using the container, you accept the terms and conditions of this license:\n",
      "https://developer.nvidia.com/ngc/nvidia-deep-learning-container-license\n",
      "\n",
      "A copy of this license is made available in this container at /NGC-DL-CONTAINER-LICENSE for your convenience.\n",
      "\n"
     ]
    },
    {
     "name": "stderr",
     "output_type": "stream",
     "text": [
      "             :-) GROMACS - gmx grompp, 2023.2-plumed_2.10.0_dev (-:\n",
      "\n",
      "Executable:   /gromacs/AVX2_256_ts/bin/gmx\n",
      "Data prefix:  /gromacs/AVX2_256_ts\n",
      "Working dir:  /work\n",
      "Command line:\n",
      "  gmx grompp -f min.mdp -c min-box.gro -p restrained.top -o min.tpr\n",
      "\n",
      "Ignoring obsolete mdp entry 'ns_type'\n",
      "\n",
      "NOTE 1 [file min.mdp]:\n",
      "  With Verlet lists the optimal nstlist is >= 10, with GPUs >= 20. Note\n",
      "  that with the Verlet scheme, nstlist has no effect on the accuracy of\n",
      "  your simulation.\n",
      "\n",
      "Generating 1-4 interactions: fudge = 0.5\n",
      "\n",
      "NOTE 2 [file restrained.top, line 3096]:\n",
      "  System has non-zero total charge: -1.000000\n",
      "  Total charge should normally be an integer. See\n",
      "  http://www.gromacs.org/Documentation/Floating_Point_Arithmetic\n",
      "  for discussion on how close it should be to an integer.\n",
      "\n",
      "\n",
      "\n",
      "Number of degrees of freedom in T-Coupling group rest is 813.00\n",
      "The integrator does not provide a ensemble temperature, there is no system ensemble temperature\n",
      "\n",
      "NOTE 3 [file min.mdp]:\n",
      "  You are using a plain Coulomb cut-off, which might produce artifacts.\n",
      "  You might want to consider using PME electrostatics.\n",
      "\n",
      "\n",
      "\n",
      "There were 3 NOTEs\n",
      "\n",
      "Back Off! I just backed up min.tpr to ./#min.tpr.2#\n",
      "\n",
      "GROMACS reminds you: \"Bad As This Shit Is, This Shit Ain't As Bad As You Think It Is.\" (Jackie Brown)\n",
      "\n"
     ]
    },
    {
     "name": "stdout",
     "output_type": "stream",
     "text": [
      "Setting the LD random seed to -16011523\n",
      "\n",
      "Generated 2145 of the 2145 non-bonded parameter combinations\n",
      "\n",
      "Generated 2145 of the 2145 1-4 parameter combinations\n",
      "\n",
      "Excluding 3 bonded neighbours molecule type 'Protein_chain_A'\n",
      "Analysing residue names:\n",
      "There are:    20    Protein residues\n",
      "Analysing Protein...\n",
      "\n",
      "This run will generate roughly 29 Mb of data\n"
     ]
    },
    {
     "data": {
      "text/plain": [
       "(0, None, None)"
      ]
     },
     "execution_count": 29,
     "metadata": {},
     "output_type": "execute_result"
    }
   ],
   "source": [
    "gmx.grompp(f=\"min.mdp\",c=\"min-box.gro\",p='restrained.top',o=\"min.tpr\")"
   ]
  },
  {
   "cell_type": "code",
   "execution_count": 30,
   "id": "e33821ba-a6e4-4d19-94d1-768e1fd422fe",
   "metadata": {},
   "outputs": [
    {
     "name": "stdout",
     "output_type": "stream",
     "text": [
      "\n",
      "==========\n",
      "== CUDA ==\n",
      "==========\n",
      "\n",
      "CUDA Version 12.3.1\n",
      "\n",
      "Container image Copyright (c) 2016-2023, NVIDIA CORPORATION & AFFILIATES. All rights reserved.\n",
      "\n",
      "This container image and its contents are governed by the NVIDIA Deep Learning Container License.\n",
      "By pulling and using the container, you accept the terms and conditions of this license:\n",
      "https://developer.nvidia.com/ngc/nvidia-deep-learning-container-license\n",
      "\n",
      "A copy of this license is made available in this container at /NGC-DL-CONTAINER-LICENSE for your convenience.\n",
      "\n"
     ]
    },
    {
     "name": "stderr",
     "output_type": "stream",
     "text": [
      "             :-) GROMACS - gmx mdrun, 2023.2-plumed_2.10.0_dev (-:\n",
      "\n",
      "Executable:   /gromacs/AVX2_256_ts/bin/gmx\n",
      "Data prefix:  /gromacs/AVX2_256_ts\n",
      "Working dir:  /work\n",
      "Command line:\n",
      "  gmx mdrun -deffnm min -ntomp 2 -pin on\n",
      "\n",
      "\n",
      "Back Off! I just backed up min.log to ./#min.log.1#\n",
      "Reading file min.tpr, VERSION 2023.2-plumed_2.10.0_dev (single precision)\n",
      "1 GPU selected for this run.\n",
      "Mapping of GPU IDs to the 1 GPU task in the 1 rank on this node:\n",
      "  PP:0\n",
      "PP tasks will do (non-perturbed) short-ranged interactions on the GPU\n",
      "PP task will update and constrain coordinates on the CPU\n",
      "Using 1 MPI process\n",
      "Using 2 OpenMP threads \n",
      "\n",
      "\n",
      "Back Off! I just backed up min.trr to ./#min.trr.1#\n",
      "\n",
      "Back Off! I just backed up min.edr to ./#min.edr.1#\n",
      "\n",
      "Steepest Descents:\n",
      "   Tolerance (Fmax)   =  1.00000e+03\n",
      "   Number of steps    =        50000\n",
      "\n",
      "Energy minimization has stopped, but the forces have not converged to the\n",
      "requested precision Fmax < 1000 (which may not be possible for your system).\n",
      "It stopped because the algorithm tried to make a new step whose size was too\n",
      "small, or there was no change in the energy since last step. Either way, we\n",
      "regard the minimization as converged to within the available machine\n",
      "precision, given your starting configuration and EM parameters.\n",
      "\n",
      "Double precision normally gives you higher accuracy, but this is often not\n",
      "needed for preparing to run molecular dynamics.\n",
      "\n",
      "writing lowest energy coordinates.\n",
      "\n",
      "Back Off! I just backed up min.gro to ./#min.gro.3#\n",
      "\n",
      "Steepest Descents converged to machine precision in 1826 steps,\n",
      "but did not reach the requested Fmax < 1000.\n",
      "Potential Energy  =  7.1445137e+03\n",
      "Maximum force     =  2.3379502e+03 on atom 271\n",
      "Norm of force     =  2.4886133e+02\n",
      "\n",
      "GROMACS reminds you: \"I can't relate to you\" (Bad Religion)\n",
      "\n"
     ]
    }
   ],
   "source": [
    "mdrun(deffnm=\"min\")"
   ]
  },
  {
   "cell_type": "code",
   "execution_count": 31,
   "id": "5168f4f1-78f4-4c5e-bb1f-c5eb09688e35",
   "metadata": {},
   "outputs": [
    {
     "data": {
      "application/vnd.jupyter.widget-view+json": {
       "model_id": "b7de4bfbba694347b70b24bf7734989b",
       "version_major": 2,
       "version_minor": 0
      },
      "text/plain": [
       "NGLWidget()"
      ]
     },
     "metadata": {},
     "output_type": "display_data"
    }
   ],
   "source": [
    "solm = md.load('min.gro')\n",
    "nhs = solm.topology.select('element != H')\n",
    "solm.atom_slice(nhs,inplace=True)\n",
    "v = nv.show_mdtraj(solm)\n",
    "\n",
    "refm = md.load_pdb(conf)\n",
    "refm.xyz = train_g[:,:,minidx]\n",
    "refm.superpose(solm)\n",
    "\n",
    "v.add_component(refm)\n",
    "v.clear(component=0)\n",
    "v.clear(component=1)\n",
    "\n",
    "v.add_representation('licorice',color='green',component=1)\n",
    "v.add_representation('licorice',color='red',component=0)\n",
    "\n",
    "v"
   ]
  },
  {
   "cell_type": "code",
   "execution_count": 37,
   "id": "bb6f1bf1-4318-4faf-bb98-5594d2a18da5",
   "metadata": {},
   "outputs": [
    {
     "name": "stdout",
     "output_type": "stream",
     "text": [
      "\n",
      "==========\n",
      "== CUDA ==\n",
      "==========\n",
      "\n",
      "CUDA Version 12.3.1\n",
      "\n",
      "Container image Copyright (c) 2016-2023, NVIDIA CORPORATION & AFFILIATES. All rights reserved.\n",
      "\n",
      "This container image and its contents are governed by the NVIDIA Deep Learning Container License.\n",
      "By pulling and using the container, you accept the terms and conditions of this license:\n",
      "https://developer.nvidia.com/ngc/nvidia-deep-learning-container-license\n",
      "\n",
      "A copy of this license is made available in this container at /NGC-DL-CONTAINER-LICENSE for your convenience.\n",
      "\n"
     ]
    },
    {
     "name": "stderr",
     "output_type": "stream",
     "text": [
      "             :-) GROMACS - gmx energy, 2023.2-plumed_2.10.0_dev (-:\n",
      "\n",
      "Executable:   /gromacs/AVX2_256_ts/bin/gmx\n",
      "Data prefix:  /gromacs/AVX2_256_ts\n",
      "Working dir:  /work\n",
      "Command line:\n",
      "  gmx energy -f min.edr -o min.xvg\n",
      "\n",
      "Opened min.edr as single precision energy file\n",
      "\n",
      "Select the terms you want from the following list by\n",
      "selecting either (part of) the name or the number or a combination.\n",
      "End your selection with an empty line or a zero.\n",
      "-------------------------------------------------------------------\n",
      "  1  Bond             2  Angle            3  Proper-Dih.      4  Per.-Imp.-Dih.\n",
      "  5  LJ-14            6  Coulomb-14       7  LJ-(SR)          8  Coulomb-(SR)  \n",
      "  9  Dis.-Rest.      10  D.R.Viol.-(nm)  11  Potential       12  Pressure      \n",
      " 13  Vir-XX          14  Vir-XY          15  Vir-XZ          16  Vir-YX        \n",
      " 17  Vir-YY          18  Vir-YZ          19  Vir-ZX          20  Vir-ZY        \n",
      " 21  Vir-ZZ          22  Pres-XX         23  Pres-XY         24  Pres-XZ       \n",
      " 25  Pres-YX         26  Pres-YY         27  Pres-YZ         28  Pres-ZX       \n",
      " 29  Pres-ZY         30  Pres-ZZ         31  #Surf*SurfTen   32  T-rest        \n",
      "\n",
      "Last energy frame read 1434 time 1824.000         \n",
      "\n",
      "GROMACS reminds you: \"During my undergraduate work I concluded that electrostatics is unlikely to be important [for enzymes]\" (Arieh Warshel, Nobel lecture 2013)\n",
      "\n"
     ]
    },
    {
     "name": "stdout",
     "output_type": "stream",
     "text": [
      "\n",
      "Statistics over 1825 steps [ 0.0000 through 1824.0000 ps ], 2 data sets\n",
      "All statistics are over 1435 points (frames)\n",
      "\n",
      "Energy                      Average   Err.Est.       RMSD  Tot-Drift\n",
      "-------------------------------------------------------------------------------\n",
      "Dis. Rest.                  18596.9      11000    44193.3   -65739.9  (kJ/mol)\n",
      "Potential                   21143.2      12000    46342.4   -72840.6  (kJ/mol)\n"
     ]
    },
    {
     "data": {
      "text/plain": [
       "(0, None, None)"
      ]
     },
     "execution_count": 37,
     "metadata": {},
     "output_type": "execute_result"
    }
   ],
   "source": [
    "gmx.energy(f='min.edr',input=['Potential','Dis.-Rest.'],o='min.xvg')"
   ]
  },
  {
   "cell_type": "code",
   "execution_count": 45,
   "id": "084963a7-c147-468d-8607-2d8fe6e77de0",
   "metadata": {},
   "outputs": [
    {
     "data": {
      "image/png": "[encoded data removed]",
      "text/plain": [
       "<Figure size 640x480 with 1 Axes>"
      ]
     },
     "metadata": {},
     "output_type": "display_data"
    }
   ],
   "source": [
    "import matplotlib.pyplot as plt\n",
    "energ = np.loadtxt('min.xvg',comments=['#','@'])\n",
    "plt.plot(energ[:,1],label='Dis.-Rest.')\n",
    "plt.plot(energ[:,2],label='Potential')\n",
    "plt.plot(energ[:,2]-energ[:,1],label='Net')\n",
    "plt.yscale('log')\n",
    "plt.legend()\n",
    "plt.show()\n"
   ]
  },
  {
   "cell_type": "code",
   "execution_count": null,
   "id": "65805c1f-8e9c-4636-b1bf-4d1681ee7333",
   "metadata": {},
   "outputs": [],
   "source": []
  }
 ],
 "metadata": {
  "kernelspec": {
   "display_name": "Python 3 (ipykernel)",
   "language": "python",
   "name": "python3"
  },
  "language_info": {
   "codemirror_mode": {
    "name": "ipython",
    "version": 3
   },
   "file_extension": ".py",
   "mimetype": "text/x-python",
   "name": "python",
   "nbconvert_exporter": "python",
   "pygments_lexer": "ipython3",
   "version": "3.10.11"
  }
 },
 "nbformat": 4,
 "nbformat_minor": 5
}
