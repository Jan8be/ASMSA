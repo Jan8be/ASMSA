{
 "cells": [
  {
   "cell_type": "code",
   "execution_count": null,
   "id": "05fd1ae1-4ce1-4e2d-bfc2-e7daeb3699c3",
   "metadata": {},
   "outputs": [],
   "source": [
    "import gromacs as gmx\n",
    "from gromacs import formats as gmf\n",
    "import numpy as np\n",
    "import mdtraj as md\n",
    "import nglview as nv\n",
    "import os"
   ]
  },
  {
   "cell_type": "code",
   "execution_count": null,
   "id": "b52a6dbb-5592-4efe-9fbc-b15561dbb453",
   "metadata": {},
   "outputs": [],
   "source": [
    "os.system(\"pwd\")"
   ]
  },
  {
   "cell_type": "code",
   "execution_count": null,
   "id": "9fa38179-7205-46e3-8cea-3584c653ccf9",
   "metadata": {},
   "outputs": [],
   "source": [
    "dir='../../My_AE/trpcage/ae/'\n",
    "ftrain=dir + 'trpcage_ds.npy'\n",
    "pdb = dir + 'trpcage_npt400.pdb'\n",
    "dec = \"../../My_AE/trpcage/MC/ae_noise_1/dec_out_LS_matrix_pos_32x32.npy\"\n",
    "xtc = dir + 'trpcage_ds_fit.xtc'\n",
    "\n",
    "train = np.load(ftrain)\n",
    "\n",
    "train_view = np.reshape(train,(-1,272,3))\n",
    "\n",
    "train.shape"
   ]
  },
  {
   "cell_type": "code",
   "execution_count": null,
   "id": "d75d9070-aa0e-41ee-8955-91f81dc7838d",
   "metadata": {},
   "outputs": [],
   "source": [
    "tr = md.load(pdb)\n",
    "\n",
    "tr.xyz = train_view\n",
    "\n",
    "v=nv.show_mdtraj(tr)\n",
    "v.add_representation(\"licorice\")\n",
    "v"
   ]
  },
  {
   "cell_type": "code",
   "execution_count": null,
   "id": "1ed1c87d-8edd-4a31-a2c8-2d7f7a65c8b9",
   "metadata": {},
   "outputs": [],
   "source": [
    "dec_out_all = np.load(dec)\n",
    "dec_out_all.shape"
   ]
  },
  {
   "cell_type": "code",
   "execution_count": null,
   "id": "67a12bcc-6d78-4080-b493-dffbdc25c7e6",
   "metadata": {},
   "outputs": [],
   "source": [
    "dec_out_all_r = np.reshape(dec_out_all, (32*32, 816))\n",
    "dec_out_all_r.shape"
   ]
  },
  {
   "cell_type": "code",
   "execution_count": null,
   "id": "ab4c3c38-3bfc-4494-a731-47d5d3bb7626",
   "metadata": {},
   "outputs": [],
   "source": [
    "def Unstandardize(x):\n",
    "    x = np.array(x)\n",
    "    return ((x*7)-1)"
   ]
  },
  {
   "cell_type": "code",
   "execution_count": null,
   "id": "f79feefd-48b4-46e7-98d8-5dc73b243a5a",
   "metadata": {},
   "outputs": [],
   "source": [
    "dec_out_all_r = Unstandardize(dec_out_all_r)"
   ]
  },
  {
   "cell_type": "code",
   "execution_count": null,
   "id": "028a98ff-287d-4b5a-899b-3ae45af5498b",
   "metadata": {},
   "outputs": [],
   "source": [
    "dec_out = dec_out_all[3,27]"
   ]
  },
  {
   "cell_type": "code",
   "execution_count": null,
   "id": "a8e04d29-6fd5-4bc3-8575-52e7dff55ada",
   "metadata": {},
   "outputs": [],
   "source": [
    "diff = train - dec_out\n",
    "msd = np.sum(diff * diff,axis=1)"
   ]
  },
  {
   "cell_type": "code",
   "execution_count": null,
   "id": "49a3a810-5ea4-43f0-b792-1ecf1aa8cfe1",
   "metadata": {},
   "outputs": [],
   "source": [
    "imin = np.argmin(msd)\n",
    "imin"
   ]
  },
  {
   "cell_type": "code",
   "execution_count": null,
   "id": "c5767e9c-b461-4e30-92bd-6ba9e749cc79",
   "metadata": {},
   "outputs": [],
   "source": [
    "tr2 = md.load(pdb)\n",
    "print(tr2.xyz.shape)\n",
    "tr2.xyz = np.reshape(dec_out,(-1,272,3))\n",
    "#tr2.xyz = train_view[np.argmin(msd)]\n",
    "v2 = nv.show_mdtraj(tr2)\n",
    "#v2.clear()\n",
    "v2.add_representation(\"licorice\")\n",
    "v2"
   ]
  },
  {
   "cell_type": "code",
   "execution_count": null,
   "id": "dd92021c-c032-45a3-b41b-7559e7125bd6",
   "metadata": {},
   "outputs": [],
   "source": [
    "v.frame=int(imin)"
   ]
  },
  {
   "cell_type": "code",
   "execution_count": null,
   "id": "07e2429d-758e-4ae4-abeb-40679ccbacec",
   "metadata": {},
   "outputs": [],
   "source": [
    "tr3 = md.load(xtc,top=pdb)\n",
    "tr3.xyz = np.reshape(dec_out_all,(-1,272,3))\n",
    "tr3.time = tr3.time[0:tr3.xyz.shape[0]]\n",
    "tr3.unitcell_vectors = tr3.unitcell_vectors[0:tr3.xyz.shape[0]]\n",
    "\n",
    "tr3.save_xtc('generated.xtc')"
   ]
  },
  {
   "cell_type": "markdown",
   "id": "0e1296d9-f2d9-4b49-85d3-6f09b4c92253",
   "metadata": {},
   "source": [
    "### Identify backbone atoms"
   ]
  },
  {
   "cell_type": "code",
   "execution_count": null,
   "id": "93879b44-6947-477d-8bae-ff8504c23569",
   "metadata": {},
   "outputs": [],
   "source": [
    "!cp {pdb} reference.pdb"
   ]
  },
  {
   "cell_type": "code",
   "execution_count": null,
   "id": "7782b57e-231c-441f-aff1-e0f57b3d1ac6",
   "metadata": {},
   "outputs": [],
   "source": [
    "gmx.select(s='reference.pdb',on='bb.ndx',select='Backbone')"
   ]
  },
  {
   "cell_type": "code",
   "execution_count": null,
   "id": "9e2e5146-10d7-4595-a34b-fe559b064c5a",
   "metadata": {},
   "outputs": [],
   "source": []
  },
  {
   "cell_type": "markdown",
   "id": "2dc8770c-bb0f-4bf3-94aa-64cffbdd7e35",
   "metadata": {},
   "source": [
    "### Compute backbone dihedrals of the generated structures"
   ]
  },
  {
   "cell_type": "code",
   "execution_count": null,
   "id": "31160b0c-7d61-4bbf-8043-05c5159bb360",
   "metadata": {},
   "outputs": [],
   "source": [
    "with open('bb.ndx') as bb:\n",
    "    bb.readline()\n",
    "    l = \" \".join(bb.readlines())\n",
    "    ndx = np.array(l.split(),np.int32)"
   ]
  },
  {
   "cell_type": "code",
   "execution_count": null,
   "id": "6584b8f7-9a7f-43a1-a7a5-1565e7499b1e",
   "metadata": {},
   "outputs": [],
   "source": [
    "with open('angle.ndx','w') as a:\n",
    "    a.write('[ dihedrals ]\\n')\n",
    "    for i in range(0,len(ndx)-3):\n",
    "        a.write('  '.join(map(str,ndx[i:i+4])))\n",
    "        a.write('\\n')"
   ]
  },
  {
   "cell_type": "code",
   "execution_count": null,
   "id": "e0c211ab-4086-40b3-96db-f3303263a7c7",
   "metadata": {},
   "outputs": [],
   "source": [
    "gmx.gangle(f='generated.xtc',n='angle.ndx',g1='dihedral',group1='dihedrals',oall='dihedrals.xvg')"
   ]
  },
  {
   "cell_type": "code",
   "execution_count": null,
   "id": "92f03615-615d-4576-962c-83e64b0572a1",
   "metadata": {},
   "outputs": [],
   "source": [
    "dihs = gmf.XVG('dihedrals.xvg').array[1:]"
   ]
  },
  {
   "cell_type": "markdown",
   "id": "c4730dba-a646-4edf-bcb9-c25054a9357c",
   "metadata": {},
   "source": [
    "### Generate restrained topology and run minimization"
   ]
  },
  {
   "cell_type": "code",
   "execution_count": null,
   "id": "fecfd064-64ea-4198-a437-1fd964f39722",
   "metadata": {
    "scrolled": true
   },
   "outputs": [],
   "source": [
    "gmx.pdb2gmx(f='reference.pdb',o='reference.gro',p='reference.top',water='tip3p',ff='amber99')"
   ]
  },
  {
   "cell_type": "code",
   "execution_count": null,
   "id": "9d4f232c-1b16-489f-b05c-2bf425e0724c",
   "metadata": {},
   "outputs": [],
   "source": [
    "with open('min.mdp','w') as m:\n",
    "    m.write('''\n",
    "integrator  = steep         ; Algorithm (steep = steepest descent minimization)\n",
    "emtol       = 100.0        ; Stop minimization when the maximum force < 1000.0 kJ/mol/nm\n",
    "emstep      = 0.01          ; Minimization step size\n",
    "nsteps      = 50000         ; Maximum number of (minimization) steps to perform\n",
    "\n",
    "nstxout                 = 1         \n",
    "nstvout                 = 0         \n",
    "nstfout                 = 0         \n",
    "nstlog                  = 5\n",
    "nstxout-compressed      = 1\n",
    "\n",
    "; Parameters describing how to find the neighbors of each atom and how to calculate the interactions\n",
    "nstlist         = 1         ; Frequency to update the neighbor list and long range forces\n",
    "cutoff-scheme   = Verlet    ; Buffered neighbor searching\n",
    "ns_type         = grid      ; Method to determine neighbor list (simple, grid)\n",
    "coulombtype     = Cut-off   ; Treatment of long range electrostatic interactions\n",
    "rcoulomb        = 1.0       ; Short-range electrostatic cut-off\n",
    "rvdw            = 1.0       ; Short-range Van der Waals cut-off\n",
    "pbc             = xyz       ; Periodic Boundary Conditions in all 3 dimensions\n",
    "\n",
    "disre           = Simple\n",
    "define                  = -DPOSRES \n",
    "''')"
   ]
  },
  {
   "cell_type": "code",
   "execution_count": null,
   "id": "bfccc7f1-9030-4148-97bb-b658cc86bc3b",
   "metadata": {},
   "outputs": [],
   "source": [
    "np.unravel_index(123, shape=((32,32)))"
   ]
  },
  {
   "cell_type": "code",
   "execution_count": null,
   "id": "97379566-dc2a-4198-a7fa-090ee436b110",
   "metadata": {},
   "outputs": [],
   "source": [
    "np.ravel_multi_index([3,27], dims=((32,32)))"
   ]
  },
  {
   "cell_type": "code",
   "execution_count": null,
   "id": "934e8c42-3a9c-4197-972a-db1a4cfb1b1e",
   "metadata": {
    "scrolled": true
   },
   "outputs": [],
   "source": [
    "%%time \n",
    "for n in range(1,2):\n",
    "    n = np.ravel_multi_index([1,1], dims=((32,32)))\n",
    "    with open('posre.itp','w') as p:\n",
    "        p.write('[ dihedral_restraints ]\\n')\n",
    "        for i in range(0,len(ndx)-3):\n",
    "            p.write('  '.join(map(str,ndx[i:i+4])))\n",
    "            p.write(f' 1 {dihs[i,n]} 0 5000\\n')\n",
    "    \n",
    "    gtr = tr3[n]\n",
    "    gtr.save_gro('min.gro')\n",
    "    \n",
    "    gmx.grompp(f='min.mdp',c='min.gro',p='reference.top',o='min.tpr',maxwarn=100000)\n",
    "    \n",
    "    gmx.mdrun(deffnm='min')"
   ]
  },
  {
   "cell_type": "code",
   "execution_count": null,
   "id": "44f31e2e-3f39-4fd1-82f6-94b8feaaa6a3",
   "metadata": {},
   "outputs": [],
   "source": [
    "v=nv.show_file('min.gro')\n",
    "v.add_representation('licorice')\n",
    "v"
   ]
  },
  {
   "cell_type": "code",
   "execution_count": null,
   "id": "7cae2516-64b5-4114-ad16-90c3a821ddaf",
   "metadata": {},
   "outputs": [],
   "source": [
    "v2=nv.show_mdtraj(tr3[n])\n",
    "v2.add_representation('licorice')\n",
    "v2"
   ]
  },
  {
   "cell_type": "code",
   "execution_count": null,
   "id": "12aaac7e-739c-4f3e-9e3f-03cd6fa01789",
   "metadata": {},
   "outputs": [],
   "source": [
    "gmx.gangle(f='min.gro',n='angle.ndx',g1='dihedral',group1='dihedrals',oall='min.xvg')"
   ]
  },
  {
   "cell_type": "code",
   "execution_count": null,
   "id": "e377d2ba-7f8c-4af4-94af-989dfe3d2004",
   "metadata": {},
   "outputs": [],
   "source": [
    "!cat min.xvg"
   ]
  },
  {
   "cell_type": "code",
   "execution_count": null,
   "id": "c449b345-4496-4ca0-b476-321872041f30",
   "metadata": {},
   "outputs": [],
   "source": [
    "dihs[:,n]"
   ]
  },
  {
   "cell_type": "code",
   "execution_count": null,
   "id": "caa9699d-0a9f-4de4-b2d5-5758474dfae9",
   "metadata": {},
   "outputs": [],
   "source": [
    "gmx.energy(f='min.edr',input=['Potential','Dih.-Rest.'],o='emin.xvg')"
   ]
  },
  {
   "cell_type": "code",
   "execution_count": null,
   "id": "847851af-fd83-43bd-8f09-d80f72d07f13",
   "metadata": {},
   "outputs": [],
   "source": [
    "import matplotlib.pyplot as plt\n",
    "energ = np.loadtxt('emin.xvg',comments=['#','@'])\n",
    "plt.plot(energ[10:,1],label='Dih.-Rest.')\n",
    "plt.plot(energ[10:,2],label='Potential')\n",
    "plt.plot(energ[10:,2]-energ[10:,1],label='Net')\n",
    "plt.yscale('log')\n",
    "plt.legend()\n",
    "plt.show()\n"
   ]
  },
  {
   "cell_type": "code",
   "execution_count": null,
   "id": "64c25b07-d6c2-4ad4-bb80-bd0196bb2965",
   "metadata": {},
   "outputs": [],
   "source": [
    "pot_E = energ[-1, 2] - energ[-1, 1]\n",
    "(energ[-1, 2], energ[-1, 1], pot_E)\n",
    "\n",
    "# kJ/mol"
   ]
  },
  {
   "cell_type": "code",
   "execution_count": null,
   "id": "8d040efa-bc24-4f63-9e96-bf40ce7f4a5c",
   "metadata": {},
   "outputs": [],
   "source": [
    "mtr = md.load('min.trr',top=pdb)\n",
    "mtr.xyz = np.vstack((np.zeros((mtr.xyz[-2:-1,:,:].shape)), mtr.xyz))\n",
    "mtr.xyz[0,:,:] = mtr.xyz[-1,:,:]\n",
    "v = nv.show_mdtraj(mtr)\n",
    "v.add_representation('licorice')\n",
    "v"
   ]
  },
  {
   "cell_type": "markdown",
   "id": "f002a486-2d49-489f-af62-e1d3f8c4f59a",
   "metadata": {},
   "source": [
    "## Minimize all generated structures"
   ]
  },
  {
   "cell_type": "code",
   "execution_count": null,
   "id": "9402e85a-8ee2-4b71-a52b-ad1a24848663",
   "metadata": {},
   "outputs": [],
   "source": [
    "matrix_res = 32\n",
    "LS_matrix_pos_min = np.zeros((matrix_res,matrix_res, 272*3))\n",
    "LS_matrix_E_min = np.zeros((matrix_res,matrix_res))"
   ]
  },
  {
   "cell_type": "code",
   "execution_count": null,
   "id": "d5d5b55d-dd8f-4f44-91e2-89ff358a836f",
   "metadata": {
    "scrolled": true
   },
   "outputs": [],
   "source": [
    "%%time\n",
    "for n in range(0, matrix_res*matrix_res):\n",
    "\n",
    "    !rm *\\#\n",
    "    \n",
    "    j,k = np.unravel_index(n, shape=((32,32)))\n",
    "    print(f\"\\n\\n***   ***   {n}   ***   ***\\n\\n\")\n",
    "    with open('posre.itp','w') as p:\n",
    "        p.write('[ dihedral_restraints ]\\n')\n",
    "        for i in range(0,len(ndx)-3):\n",
    "            p.write('  '.join(map(str,ndx[i:i+4])))\n",
    "            p.write(f' 1 {dihs[i,n]} 0 5000\\n')\n",
    "    \n",
    "    gtr = tr3[n]\n",
    "    gtr.save_gro('min.gro')\n",
    "    \n",
    "    gmx.grompp(f='min.mdp',c='min.gro',p='reference.top',o='min.tpr',maxwarn=1)\n",
    "\n",
    "    try:\n",
    "        gmx.mdrun(deffnm='min')\n",
    "    \n",
    "        LS_matrix_pos_min[j,k,:] = np.reshape(md.load(\"min.gro\", top=pdb).xyz, (272*3))\n",
    "    \n",
    "        gmx.energy(f='min.edr',input=['Potential','Dih.-Rest.'],o='emin.xvg')\n",
    "        energ = np.loadtxt('emin.xvg',comments=['#','@'])\n",
    "        try:\n",
    "            LS_matrix_E_min[j,k] = energ[-1,2] - energ[-1,1]\n",
    "        except IndexError:\n",
    "            print(energ)\n",
    "            LS_matrix_E_min[j,k] = energ[2] - energ[1]\n",
    "            \n",
    "    except:\n",
    "        LS_matrix_pos_min[j,k,:] = np.reshape(md.load(\"min.gro\", top=pdb).xyz, (272*3))\n",
    "        LS_matrix_E_min[j,k] = 1e12\n",
    "\n",
    "np.save(\"LS_matrix_E_min.npy\", LS_matrix_E_min*1000)\n",
    "np.save(\"LS_matrix_pos_min.npy\", LS_matrix_pos_min)"
   ]
  },
  {
   "cell_type": "code",
   "execution_count": null,
   "id": "f1c42512-f6b7-4fae-ba0e-39776504a7f5",
   "metadata": {},
   "outputs": [],
   "source": [
    "plt.imshow(np.rot90(LS_matrix_E_min, axes=(0,1)), vmax=2000)\n",
    "plt.colorbar()"
   ]
  }
 ],
 "metadata": {
  "kernelspec": {
   "display_name": "Python 3 (ipykernel)",
   "language": "python",
   "name": "python3"
  },
  "language_info": {
   "codemirror_mode": {
    "name": "ipython",
    "version": 3
   },
   "file_extension": ".py",
   "mimetype": "text/x-python",
   "name": "python",
   "nbconvert_exporter": "python",
   "pygments_lexer": "ipython3",
   "version": "3.10.11"
  }
 },
 "nbformat": 4,
 "nbformat_minor": 5
}
