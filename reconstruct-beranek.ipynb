{
 "cells": [
  {
   "cell_type": "code",
   "execution_count": null,
   "id": "05fd1ae1-4ce1-4e2d-bfc2-e7daeb3699c3",
   "metadata": {},
   "outputs": [],
   "source": [
    "import gromacs as gmx\n",
    "import numpy as np\n",
    "import mdtraj as md\n",
    "import nglview as nv"
   ]
  },
  {
   "cell_type": "code",
   "execution_count": null,
   "id": "5893fc87-3f53-4fe7-bc74-6ff6556c1415",
   "metadata": {},
   "outputs": [],
   "source": [
    "dir='/home/meta/ljocha/ASMSA/My_AE/trpcage/ae'\n",
    "ftrain=dir + '/trpcage_ds.npy'\n",
    "pdb = dir + '/trpcage_npt400.pdb'\n",
    "dec = '/home/meta/ljocha/ASMSA/My_AE/trpcage/dec_out_LS_matrix_pos_32x32.npy'\n",
    "\n",
    "train = np.load(ftrain)"
   ]
  },
  {
   "cell_type": "code",
   "execution_count": null,
   "id": "3e04828a-2ca1-47c5-a522-25f600929429",
   "metadata": {},
   "outputs": [],
   "source": [
    "train_view = np.reshape(train,(-1,272,3))"
   ]
  },
  {
   "cell_type": "code",
   "execution_count": null,
   "id": "df25389f-2c70-48dd-b64b-bda035c58f61",
   "metadata": {},
   "outputs": [],
   "source": [
    "train.shape"
   ]
  },
  {
   "cell_type": "code",
   "execution_count": null,
   "id": "117c6c9b-5a3b-49f4-a86b-9a0c913495de",
   "metadata": {},
   "outputs": [],
   "source": [
    "tr = md.load(pdb)"
   ]
  },
  {
   "cell_type": "code",
   "execution_count": null,
   "id": "3552af34-90b8-46ea-bebd-aeb303cbe73b",
   "metadata": {},
   "outputs": [],
   "source": [
    "tr.xyz = train_view"
   ]
  },
  {
   "cell_type": "code",
   "execution_count": null,
   "id": "82556e98-b764-4b43-92cf-edeff3bfb09b",
   "metadata": {},
   "outputs": [],
   "source": [
    "v=nv.show_mdtraj(tr)\n",
    "v"
   ]
  },
  {
   "cell_type": "code",
   "execution_count": null,
   "id": "1ed1c87d-8edd-4a31-a2c8-2d7f7a65c8b9",
   "metadata": {},
   "outputs": [],
   "source": [
    "dec_out_all = np.load(dec)\n",
    "dec_out_all.shape"
   ]
  },
  {
   "cell_type": "code",
   "execution_count": null,
   "id": "ab4c3c38-3bfc-4494-a731-47d5d3bb7626",
   "metadata": {},
   "outputs": [],
   "source": [
    "def Unstandardize(x):\n",
    "    x = np.array(x)\n",
    "    return ((x*7)-1)"
   ]
  },
  {
   "cell_type": "code",
   "execution_count": null,
   "id": "f79feefd-48b4-46e7-98d8-5dc73b243a5a",
   "metadata": {},
   "outputs": [],
   "source": [
    "dec_out_all = Unstandardize(dec_out_all)"
   ]
  },
  {
   "cell_type": "code",
   "execution_count": null,
   "id": "028a98ff-287d-4b5a-899b-3ae45af5498b",
   "metadata": {},
   "outputs": [],
   "source": [
    "dec_out = dec_out_all[0,0]"
   ]
  },
  {
   "cell_type": "code",
   "execution_count": null,
   "id": "a8e04d29-6fd5-4bc3-8575-52e7dff55ada",
   "metadata": {},
   "outputs": [],
   "source": [
    "diff = train - dec_out\n",
    "msd = np.sum(diff * diff,axis=1)"
   ]
  },
  {
   "cell_type": "code",
   "execution_count": null,
   "id": "49a3a810-5ea4-43f0-b792-1ecf1aa8cfe1",
   "metadata": {},
   "outputs": [],
   "source": [
    "np.argmin(msd)"
   ]
  },
  {
   "cell_type": "code",
   "execution_count": null,
   "id": "c5767e9c-b461-4e30-92bd-6ba9e749cc79",
   "metadata": {},
   "outputs": [],
   "source": [
    "tr2 = md.load(pdb)\n",
    "tr2.xyz = np.reshape(dec_out,(-1,272,3))\n",
    "tr2.xyz = train_view[9873]\n",
    "v2 = nv.show_mdtraj(tr2)\n",
    "#v2.clear()\n",
    "#v2.add_representation(\"licorice\")\n",
    "v2"
   ]
  },
  {
   "cell_type": "code",
   "execution_count": null,
   "id": "dd92021c-c032-45a3-b41b-7559e7125bd6",
   "metadata": {},
   "outputs": [],
   "source": [
    "msd[1234]"
   ]
  },
  {
   "cell_type": "code",
   "execution_count": null,
   "id": "e4a15f22-f52f-4174-ab5d-1c9771076915",
   "metadata": {},
   "outputs": [],
   "source": [
    "np.reshape(dec_out,(-1,272,3)).shape"
   ]
  },
  {
   "cell_type": "code",
   "execution_count": null,
   "id": "4590eaed-ca01-4bba-b76e-5540687fadfd",
   "metadata": {},
   "outputs": [],
   "source": [
    "v.frame=1234"
   ]
  },
  {
   "cell_type": "code",
   "execution_count": null,
   "id": "ac96442e-ea0f-41e0-9932-b7e6fda6be0d",
   "metadata": {},
   "outputs": [],
   "source": [
    "v.frame=3702"
   ]
  },
  {
   "cell_type": "code",
   "execution_count": null,
   "id": "b134f74f-c876-4857-ac56-3c52d1196c0c",
   "metadata": {},
   "outputs": [],
   "source": [
    "diff.shape"
   ]
  },
  {
   "cell_type": "code",
   "execution_count": null,
   "id": "74d37ddc-cc69-424b-a756-9392b2ec3cb9",
   "metadata": {},
   "outputs": [],
   "source": [
    "msd.shape"
   ]
  },
  {
   "cell_type": "code",
   "execution_count": null,
   "id": "ed5b85d8-fb67-401b-a5ee-4cead1276ceb",
   "metadata": {},
   "outputs": [],
   "source": [
    "np.random.normal(size=dec_out.shape)"
   ]
  },
  {
   "cell_type": "code",
   "execution_count": null,
   "id": "07e2429d-758e-4ae4-abeb-40679ccbacec",
   "metadata": {},
   "outputs": [],
   "source": []
  }
 ],
 "metadata": {
  "kernelspec": {
   "display_name": "Python 3 (ipykernel)",
   "language": "python",
   "name": "python3"
  },
  "language_info": {
   "codemirror_mode": {
    "name": "ipython",
    "version": 3
   },
   "file_extension": ".py",
   "mimetype": "text/x-python",
   "name": "python",
   "nbconvert_exporter": "python",
   "pygments_lexer": "ipython3",
   "version": "3.10.11"
  }
 },
 "nbformat": 4,
 "nbformat_minor": 5
}
